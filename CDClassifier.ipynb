{
 "cells": [
  {
   "cell_type": "code",
   "execution_count": 1,
   "metadata": {},
   "outputs": [],
   "source": [
    "from tensorflow.compat.v1 import ConfigProto, InteractiveSession"
   ]
  },
  {
   "cell_type": "code",
   "execution_count": 3,
   "metadata": {},
   "outputs": [],
   "source": [
    "config = ConfigProto()\n",
    "config.gpu_options.per_process_gpu_memory_fraction = 0.5\n",
    "config.gpu_options.allow_growth = True\n",
    "session = InteractiveSession(config=config)"
   ]
  },
  {
   "cell_type": "code",
   "execution_count": 5,
   "metadata": {},
   "outputs": [],
   "source": [
    "import tensorflow as tf\n",
    "from tensorflow.keras.preprocessing.image import ImageDataGenerator"
   ]
  },
  {
   "cell_type": "code",
   "execution_count": 6,
   "metadata": {},
   "outputs": [
    {
     "data": {
      "text/plain": [
       "'2.4.1'"
      ]
     },
     "execution_count": 6,
     "metadata": {},
     "output_type": "execute_result"
    }
   ],
   "source": [
    "tf.__version__"
   ]
  },
  {
   "cell_type": "code",
   "execution_count": 8,
   "metadata": {},
   "outputs": [],
   "source": [
    "train_data_generator = ImageDataGenerator(rescale = 1./255,\n",
    "                                          shear_range = 0.2,\n",
    "                                          zoom_range=0.2,\n",
    "                                          horizontal_flip = True)"
   ]
  },
  {
   "cell_type": "code",
   "execution_count": 11,
   "metadata": {},
   "outputs": [
    {
     "name": "stdout",
     "output_type": "stream",
     "text": [
      "Found 8005 images belonging to 2 classes.\n",
      "Found 2023 images belonging to 1 classes.\n"
     ]
    }
   ],
   "source": [
    "training_set = train_data_generator.flow_from_directory(\"./Data/training_set\",\n",
    "                                                       target_size = (64, 64),\n",
    "                                                       batch_size = 32,\n",
    "                                                       class_mode = \"binary\")\n",
    "\n",
    "testing_data_generator = ImageDataGenerator(rescale = 1./255)\n",
    "testing_set = testing_data_generator.flow_from_directory(\"./Data/test_set\",\n",
    "                                                        target_size= (64, 64),\n",
    "                                                        batch_size = 32,\n",
    "                                                        class_mode = \"binary\")"
   ]
  },
  {
   "cell_type": "code",
   "execution_count": 12,
   "metadata": {},
   "outputs": [],
   "source": [
    "from tensorflow.keras.layers import Conv2D"
   ]
  },
  {
   "cell_type": "code",
   "execution_count": 16,
   "metadata": {},
   "outputs": [],
   "source": [
    "cnn = tf.keras.models.Sequential()\n",
    "\n",
    "cnn.add(tf.keras.layers.Conv2D(filters=32, padding=\"same\", kernel_size=3, activation=\"relu\", input_shape=[64,64,3]))\n",
    "cnn.add(tf.keras.layers.MaxPool2D(pool_size=2, strides=2))\n",
    "\n",
    "cnn.add(tf.keras.layers.Conv2D(filters=32, padding=\"same\", kernel_size=3, activation=\"relu\"))\n",
    "cnn.add(tf.keras.layers.MaxPool2D(pool_size=2, strides=2))\n",
    "\n",
    "cnn.add(tf.keras.layers.Flatten())\n",
    "\n",
    "cnn.add(tf.keras.layers.Dense(units=128, activation=\"relu\"))\n",
    "\n",
    "cnn.add(tf.keras.layers.Dense(units=1, activation=\"sigmoid\"))"
   ]
  },
  {
   "cell_type": "code",
   "execution_count": 18,
   "metadata": {},
   "outputs": [
    {
     "name": "stdout",
     "output_type": "stream",
     "text": [
      "Model: \"sequential_2\"\n",
      "_________________________________________________________________\n",
      "Layer (type)                 Output Shape              Param #   \n",
      "=================================================================\n",
      "conv2d_2 (Conv2D)            (None, 64, 64, 32)        896       \n",
      "_________________________________________________________________\n",
      "max_pooling2d_2 (MaxPooling2 (None, 32, 32, 32)        0         \n",
      "_________________________________________________________________\n",
      "conv2d_3 (Conv2D)            (None, 32, 32, 32)        9248      \n",
      "_________________________________________________________________\n",
      "max_pooling2d_3 (MaxPooling2 (None, 16, 16, 32)        0         \n",
      "_________________________________________________________________\n",
      "flatten_1 (Flatten)          (None, 8192)              0         \n",
      "_________________________________________________________________\n",
      "dense (Dense)                (None, 128)               1048704   \n",
      "_________________________________________________________________\n",
      "dense_1 (Dense)              (None, 1)                 129       \n",
      "=================================================================\n",
      "Total params: 1,058,977\n",
      "Trainable params: 1,058,977\n",
      "Non-trainable params: 0\n",
      "_________________________________________________________________\n"
     ]
    }
   ],
   "source": [
    "cnn.summary()"
   ]
  },
  {
   "cell_type": "code",
   "execution_count": 19,
   "metadata": {},
   "outputs": [
    {
     "name": "stdout",
     "output_type": "stream",
     "text": [
      "Epoch 1/15\n",
      "251/251 [==============================] - 121s 479ms/step - loss: 0.6842 - accuracy: 0.5672 - val_loss: 1.1896 - val_accuracy: 0.2274\n",
      "Epoch 2/15\n",
      "251/251 [==============================] - 45s 178ms/step - loss: 0.5985 - accuracy: 0.6745 - val_loss: 0.8656 - val_accuracy: 0.5151\n",
      "Epoch 3/15\n",
      "251/251 [==============================] - 48s 190ms/step - loss: 0.5544 - accuracy: 0.7201 - val_loss: 1.5004 - val_accuracy: 0.2328\n",
      "Epoch 4/15\n",
      "251/251 [==============================] - 48s 192ms/step - loss: 0.5130 - accuracy: 0.7405 - val_loss: 1.0591 - val_accuracy: 0.4913\n",
      "Epoch 5/15\n",
      "251/251 [==============================] - 47s 188ms/step - loss: 0.4940 - accuracy: 0.7557 - val_loss: 1.7047 - val_accuracy: 0.2719\n",
      "Epoch 6/15\n",
      "251/251 [==============================] - 49s 196ms/step - loss: 0.4691 - accuracy: 0.7747 - val_loss: 1.2653 - val_accuracy: 0.4587\n",
      "Epoch 7/15\n",
      "251/251 [==============================] - 47s 187ms/step - loss: 0.4488 - accuracy: 0.7846 - val_loss: 1.1777 - val_accuracy: 0.4993\n",
      "Epoch 8/15\n",
      "251/251 [==============================] - 46s 183ms/step - loss: 0.4485 - accuracy: 0.7930 - val_loss: 0.9158 - val_accuracy: 0.6204\n",
      "Epoch 9/15\n",
      "251/251 [==============================] - 44s 177ms/step - loss: 0.4274 - accuracy: 0.8035 - val_loss: 1.7599 - val_accuracy: 0.4068\n",
      "Epoch 10/15\n",
      "251/251 [==============================] - 45s 178ms/step - loss: 0.4024 - accuracy: 0.8125 - val_loss: 1.8020 - val_accuracy: 0.4261\n",
      "Epoch 11/15\n",
      "251/251 [==============================] - 45s 178ms/step - loss: 0.4014 - accuracy: 0.8123 - val_loss: 1.2726 - val_accuracy: 0.4894\n",
      "Epoch 12/15\n",
      "251/251 [==============================] - 45s 178ms/step - loss: 0.3936 - accuracy: 0.8218 - val_loss: 1.5959 - val_accuracy: 0.4874\n",
      "Epoch 13/15\n",
      "251/251 [==============================] - 45s 178ms/step - loss: 0.3699 - accuracy: 0.8263 - val_loss: 1.9254 - val_accuracy: 0.4281\n",
      "Epoch 14/15\n",
      "251/251 [==============================] - 44s 177ms/step - loss: 0.3651 - accuracy: 0.8386 - val_loss: 1.8009 - val_accuracy: 0.4904\n",
      "Epoch 15/15\n",
      "251/251 [==============================] - 44s 177ms/step - loss: 0.3384 - accuracy: 0.8525 - val_loss: 1.9737 - val_accuracy: 0.4281\n"
     ]
    },
    {
     "data": {
      "text/plain": [
       "<tensorflow.python.keras.callbacks.History at 0x2885d827bb0>"
      ]
     },
     "execution_count": 19,
     "metadata": {},
     "output_type": "execute_result"
    }
   ],
   "source": [
    "cnn.compile(optimizer = 'adam', loss = 'binary_crossentropy', metrics = ['accuracy'])\n",
    "\n",
    "cnn.fit(x = training_set, validation_data = testing_set, epochs = 15) "
   ]
  },
  {
   "cell_type": "code",
   "execution_count": 20,
   "metadata": {},
   "outputs": [],
   "source": [
    "cnn.save(\"dogcat.h5\")"
   ]
  },
  {
   "cell_type": "code",
   "execution_count": 1,
   "metadata": {},
   "outputs": [],
   "source": [
    "from tensorflow.keras.models import load_model\n",
    "model = load_model(\"dogcat.h5\")"
   ]
  },
  {
   "cell_type": "code",
   "execution_count": 2,
   "metadata": {},
   "outputs": [
    {
     "name": "stdout",
     "output_type": "stream",
     "text": [
      "Model: \"sequential_2\"\n",
      "_________________________________________________________________\n",
      "Layer (type)                 Output Shape              Param #   \n",
      "=================================================================\n",
      "conv2d_2 (Conv2D)            (None, 64, 64, 32)        896       \n",
      "_________________________________________________________________\n",
      "max_pooling2d_2 (MaxPooling2 (None, 32, 32, 32)        0         \n",
      "_________________________________________________________________\n",
      "conv2d_3 (Conv2D)            (None, 32, 32, 32)        9248      \n",
      "_________________________________________________________________\n",
      "max_pooling2d_3 (MaxPooling2 (None, 16, 16, 32)        0         \n",
      "_________________________________________________________________\n",
      "flatten_1 (Flatten)          (None, 8192)              0         \n",
      "_________________________________________________________________\n",
      "dense (Dense)                (None, 128)               1048704   \n",
      "_________________________________________________________________\n",
      "dense_1 (Dense)              (None, 1)                 129       \n",
      "=================================================================\n",
      "Total params: 1,058,977\n",
      "Trainable params: 1,058,977\n",
      "Non-trainable params: 0\n",
      "_________________________________________________________________\n"
     ]
    }
   ],
   "source": [
    "model.summary()"
   ]
  },
  {
   "cell_type": "code",
   "execution_count": null,
   "metadata": {},
   "outputs": [],
   "source": [
    "import numpy as np\n",
    "from tensorflow.keras.preprocessing import image\n",
    "test_image = image.load_image(\"./Data/test_set\")"
   ]
  }
 ],
 "metadata": {
  "kernelspec": {
   "display_name": "Python 3",
   "language": "python",
   "name": "python3"
  },
  "language_info": {
   "codemirror_mode": {
    "name": "ipython",
    "version": 3
   },
   "file_extension": ".py",
   "mimetype": "text/x-python",
   "name": "python",
   "nbconvert_exporter": "python",
   "pygments_lexer": "ipython3",
   "version": "3.8.3"
  }
 },
 "nbformat": 4,
 "nbformat_minor": 4
}
